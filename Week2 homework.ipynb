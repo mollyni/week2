{
 "cells": [
  {
   "cell_type": "code",
   "execution_count": 1,
   "id": "334e76ad",
   "metadata": {},
   "outputs": [
    {
     "name": "stdout",
     "output_type": "stream",
     "text": [
      "Requirement already satisfied: numpy in d:\\googledownload\\anaconda\\lib\\site-packages (1.20.3)\n"
     ]
    }
   ],
   "source": [
    "!pip install numpy"
   ]
  },
  {
   "cell_type": "code",
   "execution_count": 3,
   "id": "11632ab7",
   "metadata": {},
   "outputs": [],
   "source": [
    "import numpy as np"
   ]
  },
  {
   "cell_type": "code",
   "execution_count": 5,
   "id": "4c6d83ce",
   "metadata": {},
   "outputs": [],
   "source": [
    "from numpy import *"
   ]
  },
  {
   "cell_type": "code",
   "execution_count": 12,
   "id": "419bc319",
   "metadata": {},
   "outputs": [
    {
     "name": "stdout",
     "output_type": "stream",
     "text": [
      "[-3.14159265 -1.57079633  0.          1.57079633  3.14159265]\n",
      "[-3.14159265 -1.57079633  0.          1.57079633  3.14159265]\n"
     ]
    }
   ],
   "source": [
    "x = linspace(-pi,pi,5)\n",
    "print(x)\n",
    "y = linspace(-pi,pi,5)\n",
    "print(y)"
   ]
  },
  {
   "cell_type": "code",
   "execution_count": 22,
   "id": "897ae61c",
   "metadata": {
    "scrolled": true
   },
   "outputs": [
    {
     "name": "stdout",
     "output_type": "stream",
     "text": [
      "[[-3.14159265 -1.57079633  0.          1.57079633  3.14159265]\n",
      " [-3.14159265 -1.57079633  0.          1.57079633  3.14159265]]\n"
     ]
    },
    {
     "data": {
      "text/plain": [
       "(2, 5)"
      ]
     },
     "execution_count": 22,
     "metadata": {},
     "output_type": "execute_result"
    }
   ],
   "source": [
    "Z = array([[-3.14159265, -1.57079633, 0, 1.57079633,  3.14159265],[-3.14159265, -1.57079633, 0, 1.57079633,  3.14159265]])\n",
    "print(Z)\n",
    "Z.shape"
   ]
  },
  {
   "cell_type": "code",
   "execution_count": 6,
   "id": "caaafd41",
   "metadata": {
    "collapsed": true
   },
   "outputs": [
    {
     "ename": "SyntaxError",
     "evalue": "invalid syntax (Temp/ipykernel_72860/1663844038.py, line 4)",
     "output_type": "error",
     "traceback": [
      "\u001b[1;36m  File \u001b[1;32m\"C:\\Users\\97312\\AppData\\Local\\Temp/ipykernel_72860/1663844038.py\"\u001b[1;36m, line \u001b[1;32m4\u001b[0m\n\u001b[1;33m    return exp(1i*y) + 2*exp(-1i*y/2) * cos(3**0.5/2*x),dtype=complex\u001b[0m\n\u001b[1;37m                ^\u001b[0m\n\u001b[1;31mSyntaxError\u001b[0m\u001b[1;31m:\u001b[0m invalid syntax\n"
     ]
    }
   ],
   "source": [
    "import cmath\n",
    "x,y = symbols ('x, y')\n",
    "def F(x,y):\n",
    "    return exp(1i*y) + 2*exp(-1i*y/2) * cos(3**0.5/2*x)"
   ]
  },
  {
   "cell_type": "code",
   "execution_count": 1,
   "id": "d66e5901",
   "metadata": {
    "collapsed": true
   },
   "outputs": [
    {
     "ename": "SyntaxError",
     "evalue": "invalid syntax (Temp/ipykernel_76404/4080316301.py, line 4)",
     "output_type": "error",
     "traceback": [
      "\u001b[1;36m  File \u001b[1;32m\"C:\\Users\\97312\\AppData\\Local\\Temp/ipykernel_76404/4080316301.py\"\u001b[1;36m, line \u001b[1;32m4\u001b[0m\n\u001b[1;33m    F = (1*exp(1i*y) + 2*exp(-1i*y/2) * cos(3**0.5/2*x))\u001b[0m\n\u001b[1;37m                ^\u001b[0m\n\u001b[1;31mSyntaxError\u001b[0m\u001b[1;31m:\u001b[0m invalid syntax\n"
     ]
    }
   ],
   "source": [
    "from sympy import *\n",
    "import cmath\n",
    "x,y = symbols ('x, y')\n",
    "F = (1*exp(1i*y) + 2*exp(-1i*y/2) * cos(3**0.5/2*x))\n",
    "result = F.subs({x:-3.14159265, y:-3.14159265})\n",
    "print(result)"
   ]
  },
  {
   "cell_type": "code",
   "execution_count": 2,
   "id": "2df41989",
   "metadata": {
    "collapsed": true
   },
   "outputs": [
    {
     "ename": "SyntaxError",
     "evalue": "invalid syntax (Temp/ipykernel_76404/998327153.py, line 2)",
     "output_type": "error",
     "traceback": [
      "\u001b[1;36m  File \u001b[1;32m\"C:\\Users\\97312\\AppData\\Local\\Temp/ipykernel_76404/998327153.py\"\u001b[1;36m, line \u001b[1;32m2\u001b[0m\n\u001b[1;33m    return exp(-1i*y) + 2*exp(1i*y/2) * cos(3**0.5/2*x)\u001b[0m\n\u001b[1;37m                 ^\u001b[0m\n\u001b[1;31mSyntaxError\u001b[0m\u001b[1;31m:\u001b[0m invalid syntax\n"
     ]
    }
   ],
   "source": [
    "def F1(x,y):\n",
    "    return exp(-1i*y) + 2*exp(1i*y/2) * cos(3**0.5/2*x)"
   ]
  },
  {
   "cell_type": "code",
   "execution_count": 3,
   "id": "1c18f7f9",
   "metadata": {
    "collapsed": true
   },
   "outputs": [
    {
     "ename": "SyntaxError",
     "evalue": "invalid syntax (Temp/ipykernel_76404/3655771340.py, line 2)",
     "output_type": "error",
     "traceback": [
      "\u001b[1;36m  File \u001b[1;32m\"C:\\Users\\97312\\AppData\\Local\\Temp/ipykernel_76404/3655771340.py\"\u001b[1;36m, line \u001b[1;32m2\u001b[0m\n\u001b[1;33m    M = matrix(A)\u001b[0m\n\u001b[1;37m    ^\u001b[0m\n\u001b[1;31mSyntaxError\u001b[0m\u001b[1;31m:\u001b[0m invalid syntax\n"
     ]
    }
   ],
   "source": [
    "A = array([[0,F],[F1,0]]\n",
    "M = matrix(A)\n",
    "M1= conjugate(M)"
   ]
  },
  {
   "cell_type": "code",
   "execution_count": 7,
   "id": "3be9ffe3",
   "metadata": {
    "collapsed": true
   },
   "outputs": [
    {
     "ename": "SyntaxError",
     "evalue": "invalid syntax (Temp/ipykernel_72860/1308743725.py, line 1)",
     "output_type": "error",
     "traceback": [
      "\u001b[1;36m  File \u001b[1;32m\"C:\\Users\\97312\\AppData\\Local\\Temp/ipykernel_72860/1308743725.py\"\u001b[1;36m, line \u001b[1;32m1\u001b[0m\n\u001b[1;33m    def plot_F:\u001b[0m\n\u001b[1;37m              ^\u001b[0m\n\u001b[1;31mSyntaxError\u001b[0m\u001b[1;31m:\u001b[0m invalid syntax\n"
     ]
    }
   ],
   "source": [
    "def plot_F:\n",
    "    F = exp(1i*y) + 2*exp(-1i*y/2) * cos(3**0.5/2*x)"
   ]
  },
  {
   "cell_type": "code",
   "execution_count": null,
   "id": "d454342d",
   "metadata": {},
   "outputs": [],
   "source": []
  }
 ],
 "metadata": {
  "kernelspec": {
   "display_name": "Python 3 (ipykernel)",
   "language": "python",
   "name": "python3"
  },
  "language_info": {
   "codemirror_mode": {
    "name": "ipython",
    "version": 3
   },
   "file_extension": ".py",
   "mimetype": "text/x-python",
   "name": "python",
   "nbconvert_exporter": "python",
   "pygments_lexer": "ipython3",
   "version": "3.9.7"
  }
 },
 "nbformat": 4,
 "nbformat_minor": 5
}
